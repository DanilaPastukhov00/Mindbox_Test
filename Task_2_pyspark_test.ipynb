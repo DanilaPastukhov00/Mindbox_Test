{
  "nbformat": 4,
  "nbformat_minor": 0,
  "metadata": {
    "colab": {
      "provenance": []
    },
    "kernelspec": {
      "name": "python3",
      "display_name": "Python 3"
    },
    "language_info": {
      "name": "python"
    }
  },
  "cells": [
    {
      "cell_type": "markdown",
      "source": [
        "В датафреймах (pyspark.sql.DataFrame) заданы продукты, категории и связь\n",
        "между ними. Одному продукту может соответствовать много категорий,\n",
        "в одной категории может быть много продуктов. Напишите метод с помощью\n",
        "PySpark, который вернет все продукты с их категориями (датафрейм с\n",
        "набором всех пар «Имя продукта – Имя категории»). В результирующем\n",
        "датафрейме должны также присутствовать продукты, у которых нет категорий.\n"
      ],
      "metadata": {
        "id": "HOhd5NJIrPhb"
      }
    },
    {
      "cell_type": "code",
      "source": [
        "!pip install pyspark"
      ],
      "metadata": {
        "colab": {
          "base_uri": "https://localhost:8080/"
        },
        "id": "GJ2XvsAUmOIf",
        "outputId": "a40cee48-f006-46c8-faef-580b9b2c5456"
      },
      "execution_count": 1,
      "outputs": [
        {
          "output_type": "stream",
          "name": "stdout",
          "text": [
            "Collecting pyspark\n",
            "  Downloading pyspark-3.5.1.tar.gz (317.0 MB)\n",
            "\u001b[2K     \u001b[90m━━━━━━━━━━━━━━━━━━━━━━━━━━━━━━━━━━━━━━━━\u001b[0m \u001b[32m317.0/317.0 MB\u001b[0m \u001b[31m2.1 MB/s\u001b[0m eta \u001b[36m0:00:00\u001b[0m\n",
            "\u001b[?25h  Preparing metadata (setup.py) ... \u001b[?25l\u001b[?25hdone\n",
            "Requirement already satisfied: py4j==0.10.9.7 in /usr/local/lib/python3.10/dist-packages (from pyspark) (0.10.9.7)\n",
            "Building wheels for collected packages: pyspark\n",
            "  Building wheel for pyspark (setup.py) ... \u001b[?25l\u001b[?25hdone\n",
            "  Created wheel for pyspark: filename=pyspark-3.5.1-py2.py3-none-any.whl size=317488493 sha256=f0005accedad4f7f9edae3e4cf54a994e3e8b89568a29677ef5e124c26453941\n",
            "  Stored in directory: /root/.cache/pip/wheels/80/1d/60/2c256ed38dddce2fdd93be545214a63e02fbd8d74fb0b7f3a6\n",
            "Successfully built pyspark\n",
            "Installing collected packages: pyspark\n",
            "Successfully installed pyspark-3.5.1\n"
          ]
        }
      ]
    },
    {
      "cell_type": "code",
      "source": [
        "from pyspark.sql import SparkSession, DataFrame"
      ],
      "metadata": {
        "id": "O6ZWE-5At5v6"
      },
      "execution_count": 2,
      "outputs": []
    },
    {
      "cell_type": "code",
      "source": [
        "spark = SparkSession.builder.appName(\"pyspark_test\").getOrCreate()"
      ],
      "metadata": {
        "id": "c0iIZkYolDGh"
      },
      "execution_count": 3,
      "outputs": []
    },
    {
      "cell_type": "code",
      "source": [
        "categories = spark.createDataFrame([\n",
        "    (1, \"Category 1\"),\n",
        "    (2, \"Category 2\"),\n",
        "    (3, \"Category 3\"),\n",
        "    (4, \"Category 4\"),\n",
        "    (5, \"Category 5\"),],\n",
        "    [\"id\", \"category\"],\n",
        ")"
      ],
      "metadata": {
        "id": "knJbvuzoo_-H"
      },
      "execution_count": 4,
      "outputs": []
    },
    {
      "cell_type": "code",
      "source": [
        "products = spark.createDataFrame([\n",
        "    (1, \"Product 1\"),\n",
        "    (2, \"Product 2\"),\n",
        "    (3, \"Product 3\"),\n",
        "    (4, \"Product 4\"),\n",
        "    (5, \"Product 5\"),\n",
        "    (6, \"Product 6\"),\n",
        "    (7, \"Product 7\"),\n",
        "    (8, \"Product 8\"),\n",
        "    (9, \"Product 9\"),\n",
        "    (10, \"Product 10\"), ],\n",
        "    [\"id\", \"product\", ]\n",
        ")"
      ],
      "metadata": {
        "id": "RLgX0v7VmARS"
      },
      "execution_count": 5,
      "outputs": []
    },
    {
      "cell_type": "code",
      "source": [
        "categories_vs_products = spark.createDataFrame([\n",
        "    (1, 1),\n",
        "    (2, 3),\n",
        "    (3, 2),\n",
        "    (3, 4),\n",
        "    (6, 4),\n",
        "    (4, 5),\n",
        "    (5, 6),\n",
        "    (6, 7),\n",
        "    (6, 8),\n",
        "    (4, 2),\n",
        "    (1, 8),\n",
        "    (4, 9),\n",
        "    (1, 10)],\n",
        "    [\"category_id\", \"product_id\", ]\n",
        ")"
      ],
      "metadata": {
        "id": "n8si-7tlmDkl"
      },
      "execution_count": 79,
      "outputs": []
    },
    {
      "cell_type": "code",
      "source": [
        "class Concat:\n",
        "\n",
        "  def __init__(self, table1, table2, table3):\n",
        "    self.table1 = table1\n",
        "    self.table2 = table2\n",
        "    self.table3 = table3\n",
        "\n",
        "  def concat_table(table1, table2, table3):\n",
        "      data = table2.join(table3,\n",
        "                         table2[0] == table3[1],\n",
        "                         how='left').join(table1,\n",
        "                                          table3[0] == table1[0],\n",
        "                                          how='left')\n",
        "      data.select(data[-1],\n",
        "                  data[1]).na.fill(value=\"No data\").orderBy(data[-1],\n",
        "                                                            data[1]).show(truncate=True)"
      ],
      "metadata": {
        "id": "HiYsExV8BJF9"
      },
      "execution_count": 146,
      "outputs": []
    },
    {
      "cell_type": "code",
      "source": [
        "Concat.concat_table(categories, products, categories_vs_products)"
      ],
      "metadata": {
        "colab": {
          "base_uri": "https://localhost:8080/"
        },
        "id": "Fa7BSuSIE-QD",
        "outputId": "9bf9b680-8618-49e9-c63f-9cefb1fe5fa4"
      },
      "execution_count": 147,
      "outputs": [
        {
          "output_type": "stream",
          "name": "stdout",
          "text": [
            "+----------+----------+\n",
            "|  category|   product|\n",
            "+----------+----------+\n",
            "|   No data| Product 4|\n",
            "|   No data| Product 7|\n",
            "|   No data| Product 8|\n",
            "|Category 1| Product 1|\n",
            "|Category 1|Product 10|\n",
            "|Category 1| Product 8|\n",
            "|Category 2| Product 3|\n",
            "|Category 3| Product 2|\n",
            "|Category 3| Product 4|\n",
            "|Category 4| Product 2|\n",
            "|Category 4| Product 5|\n",
            "|Category 4| Product 9|\n",
            "|Category 5| Product 6|\n",
            "+----------+----------+\n",
            "\n"
          ]
        }
      ]
    }
  ]
}