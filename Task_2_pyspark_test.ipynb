{
  "nbformat": 4,
  "nbformat_minor": 0,
  "metadata": {
    "colab": {
      "provenance": []
    },
    "kernelspec": {
      "name": "python3",
      "display_name": "Python 3"
    },
    "language_info": {
      "name": "python"
    }
  },
  "cells": [
    {
      "cell_type": "markdown",
      "source": [
        "В датафреймах (pyspark.sql.DataFrame) заданы продукты, категории и связь\n",
        "между ними. Одному продукту может соответствовать много категорий,\n",
        "в одной категории может быть много продуктов. Напишите метод с помощью\n",
        "PySpark, который вернет все продукты с их категориями (датафрейм с\n",
        "набором всех пар «Имя продукта – Имя категории»). В результирующем\n",
        "датафрейме должны также присутствовать продукты, у которых нет категорий.\n"
      ],
      "metadata": {
        "id": "HOhd5NJIrPhb"
      }
    },
    {
      "cell_type": "code",
      "source": [
        "!pip install pyspark"
      ],
      "metadata": {
        "colab": {
          "base_uri": "https://localhost:8080/"
        },
        "id": "GJ2XvsAUmOIf",
        "outputId": "9a8ed2e4-fe52-4085-d3ed-0e7887c0eb02"
      },
      "execution_count": 3,
      "outputs": [
        {
          "output_type": "stream",
          "name": "stdout",
          "text": [
            "Collecting pyspark\n",
            "  Downloading pyspark-3.5.1.tar.gz (317.0 MB)\n",
            "\u001b[2K     \u001b[90m━━━━━━━━━━━━━━━━━━━━━━━━━━━━━━━━━━━━━━━━\u001b[0m \u001b[32m317.0/317.0 MB\u001b[0m \u001b[31m4.3 MB/s\u001b[0m eta \u001b[36m0:00:00\u001b[0m\n",
            "\u001b[?25h  Preparing metadata (setup.py) ... \u001b[?25l\u001b[?25hdone\n",
            "Requirement already satisfied: py4j==0.10.9.7 in /usr/local/lib/python3.10/dist-packages (from pyspark) (0.10.9.7)\n",
            "Building wheels for collected packages: pyspark\n",
            "  Building wheel for pyspark (setup.py) ... \u001b[?25l\u001b[?25hdone\n",
            "  Created wheel for pyspark: filename=pyspark-3.5.1-py2.py3-none-any.whl size=317488493 sha256=870f5f55df3fa9305ddd806cfddaeb4877415b8f8ab6a0f84ea4c87d61273ca9\n",
            "  Stored in directory: /root/.cache/pip/wheels/80/1d/60/2c256ed38dddce2fdd93be545214a63e02fbd8d74fb0b7f3a6\n",
            "Successfully built pyspark\n",
            "Installing collected packages: pyspark\n",
            "Successfully installed pyspark-3.5.1\n"
          ]
        }
      ]
    },
    {
      "cell_type": "code",
      "source": [
        "from pyspark.sql import SparkSession, DataFrame"
      ],
      "metadata": {
        "id": "O6ZWE-5At5v6"
      },
      "execution_count": 4,
      "outputs": []
    },
    {
      "cell_type": "code",
      "source": [
        "spark = SparkSession.builder.appName(\"pyspark_test\").getOrCreate()"
      ],
      "metadata": {
        "id": "c0iIZkYolDGh"
      },
      "execution_count": 5,
      "outputs": []
    },
    {
      "cell_type": "code",
      "source": [
        "categories = spark.createDataFrame([\n",
        "    (1, \"Category 1\"),\n",
        "    (2, \"Category 2\"),\n",
        "    (3, \"Category 3\"),\n",
        "    (4, \"Category 4\"),\n",
        "    (5, \"Category 5\"),],\n",
        "    [\"id\", \"category\"],\n",
        ")"
      ],
      "metadata": {
        "id": "knJbvuzoo_-H"
      },
      "execution_count": 15,
      "outputs": []
    },
    {
      "cell_type": "code",
      "source": [
        "products = spark.createDataFrame([\n",
        "    (1, \"Product 1\"),\n",
        "    (2, \"Product 2\"),\n",
        "    (3, \"Product 3\"),\n",
        "    (4, \"Product 4\"),\n",
        "    (5, \"Product 5\"),\n",
        "    (6, \"Product 6\"),\n",
        "    (7, \"Product 7\"),\n",
        "    (8, \"Product 8\"),\n",
        "    (9, \"Product 9\"),\n",
        "    (10, \"Product 10\"), ],\n",
        "    [\"id\", \"product\", ]\n",
        ")"
      ],
      "metadata": {
        "id": "RLgX0v7VmARS"
      },
      "execution_count": 16,
      "outputs": []
    },
    {
      "cell_type": "code",
      "source": [
        "products_vs_categories = spark.createDataFrame([\n",
        "    (1, 1),\n",
        "    (2, 3),\n",
        "    (3, 2),\n",
        "    (3, 4),\n",
        "    (6, 4),\n",
        "    (4, 5),\n",
        "    (5, 6),\n",
        "    (6, 7),\n",
        "    (6, 8),\n",
        "    (4, 2),\n",
        "    (1, 8),\n",
        "    (4, 9),\n",
        "    (1, 10)],\n",
        "    [\"category_id\", \"product_id\", ]\n",
        ")"
      ],
      "metadata": {
        "id": "n8si-7tlmDkl"
      },
      "execution_count": 17,
      "outputs": []
    },
    {
      "cell_type": "code",
      "source": [
        "data = (products.join(products_vs_categories,\n",
        "    products.id == products_vs_categories.product_id, how='left')\n",
        "    .join(categories,\n",
        "    products_vs_categories.category_id == categories.id, how='left')\n",
        "    .select(['product', 'category']).na.fill(value=\"Not category\"))"
      ],
      "metadata": {
        "id": "nA6ETnhlmHN1"
      },
      "execution_count": 18,
      "outputs": []
    },
    {
      "cell_type": "code",
      "source": [
        "data.orderBy(\"product_id\", \"category_id\", ).show(truncate=True)"
      ],
      "metadata": {
        "colab": {
          "base_uri": "https://localhost:8080/"
        },
        "id": "gddyMEo1mJnb",
        "outputId": "7e3e5543-3ddf-460d-da26-d0327c63927e"
      },
      "execution_count": 19,
      "outputs": [
        {
          "output_type": "stream",
          "name": "stdout",
          "text": [
            "+----------+------------+\n",
            "|   product|    category|\n",
            "+----------+------------+\n",
            "| Product 1|  Category 1|\n",
            "| Product 2|  Category 3|\n",
            "| Product 2|  Category 4|\n",
            "| Product 3|  Category 2|\n",
            "| Product 4|  Category 3|\n",
            "| Product 4|Not category|\n",
            "| Product 5|  Category 4|\n",
            "| Product 6|  Category 5|\n",
            "| Product 7|Not category|\n",
            "| Product 8|  Category 1|\n",
            "| Product 8|Not category|\n",
            "| Product 9|  Category 4|\n",
            "|Product 10|  Category 1|\n",
            "+----------+------------+\n",
            "\n"
          ]
        }
      ]
    }
  ]
}